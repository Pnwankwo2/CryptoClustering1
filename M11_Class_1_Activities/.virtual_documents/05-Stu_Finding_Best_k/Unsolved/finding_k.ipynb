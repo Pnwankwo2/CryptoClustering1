# Import the modules
import pandas as pd
import hvplot.pandas
from pathlib import Path
import matplotlib.pyplot as plt
from sklearn.cluster import KMeans
from sklearn.preprocessing import StandardScaler


# Read in the CSV file as a Pandas DataFrame
spread_df = pd.read_csv(
    Path("Resources/stock_data.csv"),
    index_col="date", 
    parse_dates=True, 
    infer_datetime_format=True
)

# Review the DataFrame
spread_df.head()


# Create a a list to store inertia values
X = spread_df[['open']].values


# Create a a list to store the values of k
k_values = list(range(1, 11))
inertia_values = []
# Loop over different numbers of clusters
for k in k_values:
    kmeans = KMeans(n_clusters=k, n_init='auto', random_state=1)
    kmeans.fit(X)
    inertia_values.append(kmeans.inertia_)


k_inertia_pairs = list(zip(k_values, inertia_values))

print("k and inertia pairs:", k_inertia_pairs)



# Create a for-loop where each value of k is evaluated using the K-means algorithm

for k in k_values:
    kmeans = KMeans(n_clusters=k, n_init='auto', random_state=1)
    kmeans.fit(X)
    inertia_values.append(kmeans.inertia_)
# Fit the model using the spread_df DataFrame 
optimal_k = 3
optimal_kmeans = KMeans(n_clusters=optimal_k, n_init='auto', random_state=1)
optimal_kmeans.fit(X)

# Append the value of the computed inertia from the `inertia_` attribute of the KMeans model instance
spread_df['Cluster'] = optimal_kmeans.labels_


# Create a Dictionary that holds the list values for k and inertia
k_inertia_dict = {'k': k_values, 'inertia': inertia_values}



# Create a DataFrame using the elbow_data Dictionary
k_values = list(range(1, 11))
inertia_values = []

print(len(k_values), len(inertia_values))
k_inertia_dict = {'k': k_values, 'inertia': inertia_values}
elbow_data_df = pd.DataFrame(k_inertia_dict)

# Review the DataFrame
#print("k and inertia dictionary:", k_inertia_dict)


# Plot the DataFrame






# Define the model with the lower value of k clusters
k_low = 3
kmeans_low = KMeans(n_clusters=k_low, n_init='auto', random_state=1)
kmeans_low.fit(X)

# Use a random_state of 1 to generate the model
k_low = 2
kmeans_low = KMeans(n_clusters=k_low, n_init='auto', random_state=1)
kmeans_low.fit(X)

# Fit the model


# Make predictions
spread_df['Cluster'] = kmeans_low.predict(X)

# Create a copy of the DataFrame and name it as spread_df_predictions


# Add a class column with the labels to the spread_df_predictions DataFrame



# Plot the clusters

plt.scatter(X[:, 0], X[:, 1], c=spread_df['Cluster'], cmap='viridis', marker='o')
plt.scatter(kmeans_low.cluster_centers_[:, 0], kmeans_low.cluster_centers_[:, 1], s=300, c='red', label='Centroids', marker='x')
plt.title('KMeans Clustering')
plt.xlabel('Feature 1')
plt.ylabel('Feature 2')
plt.legend()
plt.show()


# Define the model with the higher value of k clusters
X = spread_df[['date']].values
k_high = 10
kmeans_high = KMeans(n_clusters=k_high, n_init='auto', random_state=1)
kmeans_high.fit(x)


# Use a random_state of 1 to generate the model


# Fit the model


# Make predictions


# Add a class column with the labels to the spread_df_predictions DataFrame



# Plot the clusters







